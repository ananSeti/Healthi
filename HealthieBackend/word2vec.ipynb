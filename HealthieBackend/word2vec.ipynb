{
 "cells": [
  {
   "cell_type": "code",
   "execution_count": 1,
   "metadata": {},
   "outputs": [],
   "source": [
    "import re\n",
    "import sys\n",
    "import json\n",
    "import numpy as np\n",
    "import pandas as pd\n",
    "from pprint import pprint"
   ]
  },
  {
   "cell_type": "code",
   "execution_count": 2,
   "metadata": {},
   "outputs": [
    {
     "data": {
      "text/plain": [
       "2224"
      ]
     },
     "execution_count": 2,
     "metadata": {},
     "output_type": "execute_result"
    }
   ],
   "source": [
    "with open('/Users/ed/Development/Healthi/HealthieBackend/resources/data/recipe_collection.json', 'r') as f:\n",
    "    data = json.load(f)\n",
    "len(data)"
   ]
  },
  {
   "cell_type": "code",
   "execution_count": 3,
   "metadata": {
    "scrolled": false
   },
   "outputs": [],
   "source": [
    "labels = []\n",
    "for record in data:\n",
    "    labels.append(data[record]['label'])"
   ]
  },
  {
   "cell_type": "code",
   "execution_count": 4,
   "metadata": {},
   "outputs": [],
   "source": [
    "ingredient_lists = []\n",
    "uris = []\n",
    "\n",
    "for record in data:\n",
    "    uris.append(record)\n",
    "    ingredient_lists.append(data[record]['ingredientLines'])"
   ]
  },
  {
   "cell_type": "code",
   "execution_count": 5,
   "metadata": {},
   "outputs": [
    {
     "data": {
      "text/plain": [
       "(2224, 2224)"
      ]
     },
     "execution_count": 5,
     "metadata": {},
     "output_type": "execute_result"
    }
   ],
   "source": [
    "len(labels), len(ingredient_lists)"
   ]
  },
  {
   "cell_type": "code",
   "execution_count": 6,
   "metadata": {},
   "outputs": [],
   "source": [
    "scrubbed_ingredients = []\n",
    "measurers = re.compile(r' (cups|cup|kg|tsp|sp|ounces|grams|tb|gram|ounce|mililiters|qt|tablespoon|tablespoons|teaspoon|tbs|tbsp|oz|can|large|small|pinch|bag|lb|ml|tub) ')\n",
    "descriptors = re.compile('(slice[d]?|about|finely|chopped|new|all-purpose|all purpose|thinly|thin|plus|optionalcrushed|crumbles|ground|minced|powder|chopped|sliced)')\n",
    "ammounts = re.compile(r'\\d+(\\/\\d+|\\.\\d+)?') # TODO use these to weight vector averaging?\n",
    "stopwords = re.compile(r' (or|the|other|of|to|on|for) ')\n",
    "nonascii = re.compile(r'[^\\x00-\\x7F]+')\n",
    "multiplespaces = re.compile(' +')\n",
    "\n",
    "for ingredient_list in ingredient_lists:\n",
    "    scrubbed_lines = []\n",
    "    for line in ingredient_list:\n",
    "        line = ' ' + line.lower() + ' '\n",
    "        \n",
    "        line = line.replace('*', ' ')\n",
    "        line = line.replace(':', ' ')\n",
    "        line = line.replace(',', ' ')\n",
    "        line = line.replace('.', ' ')\n",
    "        line = line.replace(')', ' ')\n",
    "        line = line.replace('(', ' ')\n",
    "        \n",
    "        line = nonascii.sub('', line)\n",
    "        line = measurers.sub('', line)\n",
    "        line = descriptors.sub('', line)\n",
    "        line = ammounts.sub('', line) \n",
    "        line = stopwords.sub('', line) \n",
    "        line = multiplespaces.sub(' ', line).strip()\n",
    "        \n",
    "        line = ' '.join( [w for w in line.split() if len(w)>1] )\n",
    "        \n",
    "        scrubbed_lines.append(line)\n",
    "        \n",
    "    scrubbed_ingredients.append(scrubbed_lines)"
   ]
  },
  {
   "cell_type": "code",
   "execution_count": 7,
   "metadata": {},
   "outputs": [
    {
     "name": "stdout",
     "output_type": "stream",
     "text": [
      "2 cups instant rice (such as Minute Rice)                    | instant rice such as minute rice\n",
      "1/2 cup vanilla ice cream                                    | vanilla ice cream\n",
      "1/2 teaspoon ground cinnamon, plus more for garnishing (optional) | cinnamon moregarnishing optional\n"
     ]
    }
   ],
   "source": [
    "idx = 14\n",
    "for i in range(len(ingredient_lists[idx])):\n",
    "    print(f'{ingredient_lists[idx][i]:<60} | {scrubbed_ingredients[idx][i]}')"
   ]
  },
  {
   "cell_type": "code",
   "execution_count": 8,
   "metadata": {},
   "outputs": [
    {
     "data": {
      "text/plain": [
       "8742"
      ]
     },
     "execution_count": 8,
     "metadata": {},
     "output_type": "execute_result"
    }
   ],
   "source": [
    "from collections import Counter\n",
    "vocab = Counter((line for ingredientlist in scrubbed_ingredients for line in ingredientlist))\n",
    "sorted_vocab = sorted(vocab.items(), key=lambda x:x[1], reverse=True)\n",
    "len(sorted_vocab)"
   ]
  },
  {
   "cell_type": "code",
   "execution_count": 9,
   "metadata": {
    "scrolled": true
   },
   "outputs": [
    {
     "data": {
      "text/plain": [
       "[('salt', 539),\n",
       " ('eggs', 382),\n",
       " ('olive oil', 305),\n",
       " ('sugar', 285),\n",
       " ('flour', 249),\n",
       " ('water', 207),\n",
       " ('butter', 154),\n",
       " ('onion', 148),\n",
       " ('kosher salt', 140),\n",
       " ('milk', 134),\n",
       " ('cinnamon', 129),\n",
       " ('vanilla extract', 126),\n",
       " ('unsalted butter', 113),\n",
       " ('baking', 112),\n",
       " ('vegetable oil', 111),\n",
       " ('egg', 95),\n",
       " ('heavy cream', 93),\n",
       " ('baking soda', 93),\n",
       " ('freshly black pepper', 90),\n",
       " ('cloves garlic', 89),\n",
       " ('extra-virgin olive oil', 85),\n",
       " ('pepper', 75),\n",
       " ('granulated sugar', 72),\n",
       " ('cumin', 67),\n",
       " ('garlic cloves', 65),\n",
       " ('clove garlic', 65),\n",
       " ('lemon juice', 61),\n",
       " ('whole milk', 59),\n",
       " ('fresh lemon juice', 59),\n",
       " ('soy sauce', 58),\n",
       " ('black pepper', 57),\n",
       " ('garlic', 56),\n",
       " ('cooking spray', 54),\n",
       " ('garlic clove', 52),\n",
       " ('salt and pepper', 52),\n",
       " ('scallions', 52),\n",
       " ('teaspoons baking', 52),\n",
       " ('honey', 47),\n",
       " ('freshly pepper', 46),\n",
       " ('red onion', 46),\n",
       " ('buttermilk', 46),\n",
       " ('mayonnaise', 42),\n",
       " ('nutmeg', 42),\n",
       " ('egg whites', 42),\n",
       " ('green onions', 41),\n",
       " ('fresh parsley', 41),\n",
       " ('sour cream', 41),\n",
       " ('kosher salt and freshly black pepper', 39),\n",
       " ('fresh cilantro', 38),\n",
       " ('canola oil', 37),\n",
       " ('pure vanilla extract', 37),\n",
       " ('maple syrup', 36),\n",
       " ('cake flour', 36),\n",
       " ('salt and freshly black pepper', 35),\n",
       " ('chicken broth', 34),\n",
       " ('egg yolks', 34),\n",
       " ('tomato paste', 34),\n",
       " ('vanilla', 33),\n",
       " ('medium onion', 32),\n",
       " ('dijon mustard', 32),\n",
       " ('rice vinegar', 30),\n",
       " ('ginger', 30),\n",
       " ('salt and peppertaste', 30),\n",
       " ('fresh lime juice', 29),\n",
       " ('cilantro', 29),\n",
       " ('bay leaf', 29),\n",
       " (\"confectioners' sugar\", 29),\n",
       " ('parsley', 28),\n",
       " ('eggs beaten', 28),\n",
       " ('cornstarch', 28),\n",
       " ('brown sugar', 28),\n",
       " ('oil', 27),\n",
       " ('grated parmesan cheese', 27),\n",
       " ('ed sugar', 27),\n",
       " ('teaspoons vanilla extract', 27),\n",
       " ('cayenne pepper', 27),\n",
       " ('bay leaves', 26),\n",
       " ('shallots', 26),\n",
       " ('tomato', 26),\n",
       " ('of salt', 26),\n",
       " ('extra virgin olive oil', 26),\n",
       " ('shallot', 25),\n",
       " ('paprika', 25),\n",
       " ('balsamic vinegar', 25),\n",
       " ('chicken stock', 24),\n",
       " ('coarse salt', 24),\n",
       " ('chili', 24),\n",
       " ('fresh chives', 24),\n",
       " ('cloves', 23),\n",
       " ('eggs lightly beaten', 23),\n",
       " ('unbleached flour', 23),\n",
       " ('sesame oil', 23),\n",
       " ('dried oregano', 22),\n",
       " ('pizza sauce', 22),\n",
       " ('half-and-half', 21),\n",
       " ('smoked salmon', 21),\n",
       " ('dumplings', 21),\n",
       " ('onions', 20),\n",
       " ('dry white wine', 20),\n",
       " ('eggs separated', 20)]"
      ]
     },
     "execution_count": 9,
     "metadata": {},
     "output_type": "execute_result"
    }
   ],
   "source": [
    "sorted_vocab[:100]"
   ]
  },
  {
   "cell_type": "code",
   "execution_count": 10,
   "metadata": {
    "scrolled": true
   },
   "outputs": [
    {
     "data": {
      "text/plain": [
       "[('teaspoon cinnamon', 1),\n",
       " (\"confectioners' sugar sprinkling\", 1),\n",
       " ('-inch thick bread brioche challah pullman', 1),\n",
       " ('butter divided moreserving', 1),\n",
       " ('jam and maple syrupserving optional', 1),\n",
       " ('challah brioche white bread', 1),\n",
       " ('-ounce french bread loaf', 1),\n",
       " ('-ounce package frozen whole strawberries thawed', 1),\n",
       " ('garnish ed sugar', 1),\n",
       " ('matcha green tea', 1),\n",
       " ('each cinnamon and cardamom', 1),\n",
       " ('egg whites beaten', 1),\n",
       " ('french vanilla creamer', 1),\n",
       " ('thick-cut honey wheat bread', 1),\n",
       " ('salted butter pan-frying', 1),\n",
       " ('\"-thick french bread', 1),\n",
       " ('-ounce package pecans', 1),\n",
       " ('multi-grain bread', 1),\n",
       " ('texas toastother -inch- white bread', 1),\n",
       " ('-ounce diagonally cut french bread inch thick', 1),\n",
       " ('loaf sturdy artisan-style bread', 1),\n",
       " ('low-fat milk %%', 1),\n",
       " ('whole grain cinnamon-raisin bread diagonally', 1),\n",
       " ('sugar-free maple syrup teaspoons strawberry jam', 1),\n",
       " ('egg beaters original', 1),\n",
       " ('pam original no-stick cooking spray', 1),\n",
       " ('healthy choice multi-grain breadfrench bread', 1),\n",
       " ('maple-flavored syrup optional', 1),\n",
       " ('-inch cubed sturdy white bread such as pepperidge farm hearty white -ounce',\n",
       "  1),\n",
       " ('-ounce block -less-fat-cream cheese softened', 1),\n",
       " ('potato buns', 1),\n",
       " ('spice islands pure vanilla extract', 1),\n",
       " ('spice islands saigon cinnamon', 1),\n",
       " ('loaf un bread', 1),\n",
       " ('ed sugar bananas toasted coconut flakes and maple syrup', 1),\n",
       " ('-ounce italian bread halved lengthwise', 1),\n",
       " ('loaf challah bread', 1),\n",
       " ('-ounce package cream cheese', 1),\n",
       " ('fresh cranberries', 1),\n",
       " ('true goodness by meijer organic cage free eggs with omega-', 1),\n",
       " ('true goodness by meijer lowfat fat milk', 1),\n",
       " ('true goodness by meijer organic multigrain bread', 1),\n",
       " ('true goodness by meijer organic honey', 1),\n",
       " ('challah bread', 1),\n",
       " ('loaves challah breadbrioche', 1),\n",
       " ('fresh fruit seasonal', 1),\n",
       " ('full fat milk', 1),\n",
       " ('from awhite loaf from awhite loaf each cut in half', 1),\n",
       " ('-ounce butter drop flavourless oil frying', 1),\n",
       " ('prepared eggnog use light version if you like', 1),\n",
       " ('eggnog extract optional', 1),\n",
       " ('finishing maple syrupbutter and ed sugar', 1),\n",
       " ('pecans coarsely crushed', 1),\n",
       " ('day-old brioche', 1),\n",
       " ('rum-raisin maple syrup', 1),\n",
       " ('whole croissants rounder shape is best', 1),\n",
       " ('warm syrup serving', 1),\n",
       " ('strawberries serving optional', 1),\n",
       " ('eight inch-thick briochechallah preferably day-old', 1),\n",
       " ('apinch cloves', 1),\n",
       " ('vegetablecanola oil deep-frying', 1),\n",
       " ('confectioners sugar dusting', 1),\n",
       " ('fresh fruit fruit compote stewed fruit etc serving', 1),\n",
       " ('unsalted butter moreserving', 1),\n",
       " ('pieces challahbrioche inch thick', 1),\n",
       " ('-inch thick bread such as challahbrioche somewhat stale', 1),\n",
       " ('butterbacon fat divided', 1),\n",
       " ('ed sugar as desired', 1),\n",
       " ('maple syrup preferably grade as desired', 1),\n",
       " ('pint fresh blackberries', 1),\n",
       " ('croissants rounder shape is best', 1),\n",
       " ('warm maple syrup serving', 1),\n",
       " ('strawberries serving', 1),\n",
       " ('lowfat buttermilk', 1),\n",
       " ('ripe yellow peaches cut into -inch pieces', 1),\n",
       " ('whitesourdough breadbrioche', 1),\n",
       " ('heavy cream half-and-half milk', 1),\n",
       " ('-inch-thick bread preferably day old', 1),\n",
       " ('pure maple syrup serving optional', 1),\n",
       " ('blueberries raspberriesstrawberries optional', 1),\n",
       " ('-inch-thick challah bread', 1),\n",
       " ('loaf one-pound un dense white bread such as pullman crusts removed and cut into -inch cubes',\n",
       "  1),\n",
       " ('pint fresh blueberries', 1),\n",
       " ('pint fresh raspberries', 1),\n",
       " ('loaf french bread preferably day-old; see shopping tip', 1),\n",
       " ('gruyre cheese', 1),\n",
       " ('reduced-calorie whole grain bread', 1),\n",
       " ('egg beaten egg substitute', 1),\n",
       " ('fat-free milk low-fat calcium-enriched soyrice beverage', 1),\n",
       " ('trans-free canola margarine', 1),\n",
       " ('sugar-free syruplow-calorie syrup', 1),\n",
       " ('good honey', 1),\n",
       " ('loaf challahbrioche bread', 1),\n",
       " ('good raspberry preserves optional', 1),\n",
       " (\"sifted confectioners' sugar optional\", 1),\n",
       " ('unsweetened almond milk', 1),\n",
       " ('soy yogurt', 1),\n",
       " ('refined coconut oil melted', 1),\n",
       " ('one -pound day-old italian-style loaf ends discarded and loaf cut into -inch-thick',\n",
       "  1),\n",
       " ('warm pure maple syrup serving', 1)]"
      ]
     },
     "execution_count": 10,
     "metadata": {},
     "output_type": "execute_result"
    }
   ],
   "source": [
    "sorted_vocab[-100:]"
   ]
  },
  {
   "cell_type": "code",
   "execution_count": 11,
   "metadata": {},
   "outputs": [
    {
     "data": {
      "text/plain": [
       "1674"
      ]
     },
     "execution_count": 11,
     "metadata": {},
     "output_type": "execute_result"
    }
   ],
   "source": [
    "len(list(filter(lambda x: x[1] > 1, sorted_vocab)))"
   ]
  },
  {
   "cell_type": "code",
   "execution_count": 12,
   "metadata": {},
   "outputs": [],
   "source": [
    "flat_ingredients = []\n",
    "for ilist in scrubbed_ingredients:\n",
    "    doc = []\n",
    "    for line in ilist:\n",
    "        doc = doc + line.split(' ')\n",
    "    flat_ingredients.append(doc)"
   ]
  },
  {
   "cell_type": "code",
   "execution_count": 13,
   "metadata": {},
   "outputs": [
    {
     "data": {
      "text/plain": [
       "['long-grain white rice', 'water', 'salt', 'olive oil']"
      ]
     },
     "execution_count": 13,
     "metadata": {},
     "output_type": "execute_result"
    }
   ],
   "source": [
    "scrubbed_ingredients[0]"
   ]
  },
  {
   "cell_type": "code",
   "execution_count": 14,
   "metadata": {},
   "outputs": [
    {
     "data": {
      "text/plain": [
       "['long-grain', 'white', 'rice', 'water', 'salt', 'olive', 'oil']"
      ]
     },
     "execution_count": 14,
     "metadata": {},
     "output_type": "execute_result"
    }
   ],
   "source": [
    "flat_ingredients[0]"
   ]
  },
  {
   "cell_type": "code",
   "execution_count": 15,
   "metadata": {},
   "outputs": [
    {
     "data": {
      "text/plain": [
       "4852"
      ]
     },
     "execution_count": 15,
     "metadata": {},
     "output_type": "execute_result"
    }
   ],
   "source": [
    "vocab = Counter((word for doc in flat_ingredients for word in doc))\n",
    "sorted_vocab = sorted(vocab.items(), key=lambda x:x[1], reverse=True)\n",
    "len(sorted_vocab)"
   ]
  },
  {
   "cell_type": "code",
   "execution_count": 16,
   "metadata": {},
   "outputs": [],
   "source": [
    "from gensim.models import Word2Vec, FastText"
   ]
  },
  {
   "cell_type": "code",
   "execution_count": 17,
   "metadata": {},
   "outputs": [],
   "source": [
    "ft = FastText(\n",
    "    flat_ingredients,\n",
    "    size=32,\n",
    "    window=5,\n",
    "    min_count=3,\n",
    "    workers=4\n",
    ")"
   ]
  },
  {
   "cell_type": "code",
   "execution_count": 18,
   "metadata": {},
   "outputs": [
    {
     "data": {
      "text/plain": [
       "[('buttermilk', 0.9996306896209717),\n",
       " ('unsalted', 0.9987801313400269),\n",
       " ('buttercream', 0.99875807762146),\n",
       " ('buttercooking', 0.9986683130264282),\n",
       " ('egg', 0.9982967972755432),\n",
       " ('melted', 0.9980528354644775),\n",
       " ('sugarcake', 0.9980248212814331),\n",
       " ('extractcake', 0.9980005025863647),\n",
       " ('pure', 0.9979914426803589),\n",
       " ('knobbutter', 0.9979079961776733)]"
      ]
     },
     "execution_count": 18,
     "metadata": {},
     "output_type": "execute_result"
    }
   ],
   "source": [
    "ft.wv.most_similar('butter')"
   ]
  },
  {
   "cell_type": "code",
   "execution_count": 19,
   "metadata": {},
   "outputs": [
    {
     "data": {
      "text/plain": [
       "[('extractthe', 0.9994943737983704),\n",
       " ('cake', 0.999474287033081),\n",
       " ('-milk', 0.9994641542434692),\n",
       " ('granulated', 0.9993367195129395),\n",
       " ('flour', 0.9991613626480103),\n",
       " ('flourcake', 0.9991430044174194),\n",
       " ('cookies', 0.9990295767784119),\n",
       " ('butternonstick', 0.9989939332008362),\n",
       " ('light-brown', 0.9989777207374573),\n",
       " ('butternut', 0.9989717602729797)]"
      ]
     },
     "execution_count": 19,
     "metadata": {},
     "output_type": "execute_result"
    }
   ],
   "source": [
    "ft.wv.most_similar('milk')"
   ]
  },
  {
   "cell_type": "code",
   "execution_count": 20,
   "metadata": {},
   "outputs": [
    {
     "data": {
      "text/plain": [
       "[('strawberries', 0.9998306035995483),\n",
       " ('walnut', 0.9998068809509277),\n",
       " ('cranberries', 0.9997902512550354),\n",
       " ('fatty', 0.999786913394928),\n",
       " ('waffles', 0.9997825622558594),\n",
       " ('nutella', 0.9997705221176147),\n",
       " ('courgettes', 0.9997624158859253),\n",
       " ('brandy', 0.9997563362121582),\n",
       " ('corkscrew', 0.9997532963752747),\n",
       " ('raspberry', 0.9997437596321106)]"
      ]
     },
     "execution_count": 20,
     "metadata": {},
     "output_type": "execute_result"
    }
   ],
   "source": [
    "ft.wv.most_similar('tortilla')"
   ]
  },
  {
   "cell_type": "code",
   "execution_count": 21,
   "metadata": {},
   "outputs": [
    {
     "data": {
      "text/plain": [
       "[('sage', 0.999760627746582),\n",
       " ('sausages', 0.9997080564498901),\n",
       " ('cabbage', 0.9991718530654907),\n",
       " ('precooked', 0.9990386962890625),\n",
       " ('sambal', 0.9990004301071167),\n",
       " ('enough', 0.9989926218986511),\n",
       " ('fully-cooked', 0.9989751577377319),\n",
       " ('roast', 0.9989744424819946),\n",
       " ('uncooked', 0.998968243598938),\n",
       " ('muffin', 0.9989447593688965)]"
      ]
     },
     "execution_count": 21,
     "metadata": {},
     "output_type": "execute_result"
    }
   ],
   "source": [
    "ft.wv.most_similar('sausage')"
   ]
  },
  {
   "cell_type": "code",
   "execution_count": 22,
   "metadata": {},
   "outputs": [
    {
     "data": {
      "text/plain": [
       "[('sugarcake', 0.9997738599777222),\n",
       " ('sodacake', 0.9992762207984924),\n",
       " ('extractcake', 0.9992440938949585),\n",
       " ('buttercooking', 0.9990527629852295),\n",
       " ('making', 0.9988678097724915),\n",
       " ('egg', 0.9988588690757751),\n",
       " ('cooking', 0.9988409876823425),\n",
       " (\"van's\", 0.9986138343811035),\n",
       " ('dark-brown', 0.9986035823822021),\n",
       " ('-milk', 0.9984099864959717)]"
      ]
     },
     "execution_count": 22,
     "metadata": {},
     "output_type": "execute_result"
    }
   ],
   "source": [
    "ft.wv.most_similar('sugar')"
   ]
  },
  {
   "cell_type": "code",
   "execution_count": null,
   "metadata": {},
   "outputs": [],
   "source": []
  },
  {
   "cell_type": "code",
   "execution_count": 23,
   "metadata": {},
   "outputs": [],
   "source": [
    "vectors = []\n",
    "for flist in flat_ingredients:\n",
    "    vectors.append(np.mean([ft.wv[ingredient] for ingredient in flist], axis=0))"
   ]
  },
  {
   "cell_type": "code",
   "execution_count": 24,
   "metadata": {},
   "outputs": [],
   "source": [
    "assert len(uris) == len(vectors)\n",
    "embeddings = { uris[i]:vectors[i] for i in range(len(vectors)) }"
   ]
  },
  {
   "cell_type": "code",
   "execution_count": 25,
   "metadata": {},
   "outputs": [],
   "source": [
    "for recipe in data:\n",
    "    data[recipe]['vec_repr'] = embeddings[recipe].tolist()"
   ]
  },
  {
   "cell_type": "markdown",
   "metadata": {},
   "source": [
    "## food type labeling \n",
    "\n",
    "breakfast = 0\n",
    "dinner = 1"
   ]
  },
  {
   "cell_type": "code",
   "execution_count": 26,
   "metadata": {},
   "outputs": [
    {
     "data": {
      "text/plain": [
       "list"
      ]
     },
     "execution_count": 26,
     "metadata": {},
     "output_type": "execute_result"
    }
   ],
   "source": [
    "type(labels)"
   ]
  },
  {
   "cell_type": "code",
   "execution_count": 42,
   "metadata": {},
   "outputs": [
    {
     "name": "stdout",
     "output_type": "stream",
     "text": [
      "\"Eat Your Vegetables!\": Green Bean Salad with Red Onion and Tomato\n",
      "1\n",
      "Marinated Chickpea Salad with Radishes and Cucumber\n"
     ]
    },
    {
     "ename": "KeyboardInterrupt",
     "evalue": "",
     "output_type": "error",
     "traceback": [
      "\u001b[0;31m---------------------------------------------------------------------------\u001b[0m",
      "\u001b[0;31mKeyboardInterrupt\u001b[0m                         Traceback (most recent call last)",
      "\u001b[0;32m~/.local/share/virtualenvs/HealthieBackend-E094tIFl/lib/python3.7/site-packages/ipykernel/kernelbase.py\u001b[0m in \u001b[0;36m_input_request\u001b[0;34m(self, prompt, ident, parent, password)\u001b[0m\n\u001b[1;32m    883\u001b[0m             \u001b[0;32mtry\u001b[0m\u001b[0;34m:\u001b[0m\u001b[0;34m\u001b[0m\u001b[0;34m\u001b[0m\u001b[0m\n\u001b[0;32m--> 884\u001b[0;31m                 \u001b[0mident\u001b[0m\u001b[0;34m,\u001b[0m \u001b[0mreply\u001b[0m \u001b[0;34m=\u001b[0m \u001b[0mself\u001b[0m\u001b[0;34m.\u001b[0m\u001b[0msession\u001b[0m\u001b[0;34m.\u001b[0m\u001b[0mrecv\u001b[0m\u001b[0;34m(\u001b[0m\u001b[0mself\u001b[0m\u001b[0;34m.\u001b[0m\u001b[0mstdin_socket\u001b[0m\u001b[0;34m,\u001b[0m \u001b[0;36m0\u001b[0m\u001b[0;34m)\u001b[0m\u001b[0;34m\u001b[0m\u001b[0;34m\u001b[0m\u001b[0m\n\u001b[0m\u001b[1;32m    885\u001b[0m             \u001b[0;32mexcept\u001b[0m \u001b[0mException\u001b[0m\u001b[0;34m:\u001b[0m\u001b[0;34m\u001b[0m\u001b[0;34m\u001b[0m\u001b[0m\n",
      "\u001b[0;32m~/.local/share/virtualenvs/HealthieBackend-E094tIFl/lib/python3.7/site-packages/jupyter_client/session.py\u001b[0m in \u001b[0;36mrecv\u001b[0;34m(self, socket, mode, content, copy)\u001b[0m\n\u001b[1;32m    812\u001b[0m         \u001b[0;32mtry\u001b[0m\u001b[0;34m:\u001b[0m\u001b[0;34m\u001b[0m\u001b[0;34m\u001b[0m\u001b[0m\n\u001b[0;32m--> 813\u001b[0;31m             \u001b[0mmsg_list\u001b[0m \u001b[0;34m=\u001b[0m \u001b[0msocket\u001b[0m\u001b[0;34m.\u001b[0m\u001b[0mrecv_multipart\u001b[0m\u001b[0;34m(\u001b[0m\u001b[0mmode\u001b[0m\u001b[0;34m,\u001b[0m \u001b[0mcopy\u001b[0m\u001b[0;34m=\u001b[0m\u001b[0mcopy\u001b[0m\u001b[0;34m)\u001b[0m\u001b[0;34m\u001b[0m\u001b[0;34m\u001b[0m\u001b[0m\n\u001b[0m\u001b[1;32m    814\u001b[0m         \u001b[0;32mexcept\u001b[0m \u001b[0mzmq\u001b[0m\u001b[0;34m.\u001b[0m\u001b[0mZMQError\u001b[0m \u001b[0;32mas\u001b[0m \u001b[0me\u001b[0m\u001b[0;34m:\u001b[0m\u001b[0;34m\u001b[0m\u001b[0;34m\u001b[0m\u001b[0m\n",
      "\u001b[0;32m~/.local/share/virtualenvs/HealthieBackend-E094tIFl/lib/python3.7/site-packages/zmq/sugar/socket.py\u001b[0m in \u001b[0;36mrecv_multipart\u001b[0;34m(self, flags, copy, track)\u001b[0m\n\u001b[1;32m    474\u001b[0m         \"\"\"\n\u001b[0;32m--> 475\u001b[0;31m         \u001b[0mparts\u001b[0m \u001b[0;34m=\u001b[0m \u001b[0;34m[\u001b[0m\u001b[0mself\u001b[0m\u001b[0;34m.\u001b[0m\u001b[0mrecv\u001b[0m\u001b[0;34m(\u001b[0m\u001b[0mflags\u001b[0m\u001b[0;34m,\u001b[0m \u001b[0mcopy\u001b[0m\u001b[0;34m=\u001b[0m\u001b[0mcopy\u001b[0m\u001b[0;34m,\u001b[0m \u001b[0mtrack\u001b[0m\u001b[0;34m=\u001b[0m\u001b[0mtrack\u001b[0m\u001b[0;34m)\u001b[0m\u001b[0;34m]\u001b[0m\u001b[0;34m\u001b[0m\u001b[0;34m\u001b[0m\u001b[0m\n\u001b[0m\u001b[1;32m    476\u001b[0m         \u001b[0;31m# have first part already, only loop while more to receive\u001b[0m\u001b[0;34m\u001b[0m\u001b[0;34m\u001b[0m\u001b[0;34m\u001b[0m\u001b[0m\n",
      "\u001b[0;32mzmq/backend/cython/socket.pyx\u001b[0m in \u001b[0;36mzmq.backend.cython.socket.Socket.recv\u001b[0;34m()\u001b[0m\n",
      "\u001b[0;32mzmq/backend/cython/socket.pyx\u001b[0m in \u001b[0;36mzmq.backend.cython.socket.Socket.recv\u001b[0;34m()\u001b[0m\n",
      "\u001b[0;32mzmq/backend/cython/socket.pyx\u001b[0m in \u001b[0;36mzmq.backend.cython.socket._recv_copy\u001b[0;34m()\u001b[0m\n",
      "\u001b[0;32m~/.local/share/virtualenvs/HealthieBackend-E094tIFl/lib/python3.7/site-packages/zmq/backend/cython/checkrc.pxd\u001b[0m in \u001b[0;36mzmq.backend.cython.checkrc._check_rc\u001b[0;34m()\u001b[0m\n",
      "\u001b[0;31mKeyboardInterrupt\u001b[0m: ",
      "\nDuring handling of the above exception, another exception occurred:\n",
      "\u001b[0;31mKeyboardInterrupt\u001b[0m                         Traceback (most recent call last)",
      "\u001b[0;32m<ipython-input-42-dfeeb9710482>\u001b[0m in \u001b[0;36m<module>\u001b[0;34m\u001b[0m\n\u001b[1;32m      1\u001b[0m \u001b[0;32mfor\u001b[0m \u001b[0mi\u001b[0m \u001b[0;32min\u001b[0m \u001b[0mrange\u001b[0m\u001b[0;34m(\u001b[0m\u001b[0;36m1600\u001b[0m\u001b[0;34m,\u001b[0m \u001b[0mlen\u001b[0m\u001b[0;34m(\u001b[0m\u001b[0muris\u001b[0m\u001b[0;34m)\u001b[0m\u001b[0;34m,\u001b[0m \u001b[0;36m10\u001b[0m\u001b[0;34m)\u001b[0m\u001b[0;34m:\u001b[0m\u001b[0;34m\u001b[0m\u001b[0;34m\u001b[0m\u001b[0m\n\u001b[1;32m      2\u001b[0m     \u001b[0mprint\u001b[0m\u001b[0;34m(\u001b[0m\u001b[0mlabels\u001b[0m\u001b[0;34m[\u001b[0m\u001b[0mi\u001b[0m\u001b[0;34m]\u001b[0m\u001b[0;34m)\u001b[0m\u001b[0;34m\u001b[0m\u001b[0;34m\u001b[0m\u001b[0m\n\u001b[0;32m----> 3\u001b[0;31m     \u001b[0mdata\u001b[0m\u001b[0;34m[\u001b[0m\u001b[0muris\u001b[0m\u001b[0;34m[\u001b[0m\u001b[0mi\u001b[0m\u001b[0;34m]\u001b[0m\u001b[0;34m]\u001b[0m\u001b[0;34m[\u001b[0m\u001b[0;34m'food_type'\u001b[0m\u001b[0;34m]\u001b[0m \u001b[0;34m=\u001b[0m \u001b[0minput\u001b[0m\u001b[0;34m(\u001b[0m\u001b[0;34m)\u001b[0m\u001b[0;34m\u001b[0m\u001b[0;34m\u001b[0m\u001b[0m\n\u001b[0m",
      "\u001b[0;32m~/.local/share/virtualenvs/HealthieBackend-E094tIFl/lib/python3.7/site-packages/ipykernel/kernelbase.py\u001b[0m in \u001b[0;36mraw_input\u001b[0;34m(self, prompt)\u001b[0m\n\u001b[1;32m    857\u001b[0m             \u001b[0mself\u001b[0m\u001b[0;34m.\u001b[0m\u001b[0m_parent_ident\u001b[0m\u001b[0;34m,\u001b[0m\u001b[0;34m\u001b[0m\u001b[0;34m\u001b[0m\u001b[0m\n\u001b[1;32m    858\u001b[0m             \u001b[0mself\u001b[0m\u001b[0;34m.\u001b[0m\u001b[0m_parent_header\u001b[0m\u001b[0;34m,\u001b[0m\u001b[0;34m\u001b[0m\u001b[0;34m\u001b[0m\u001b[0m\n\u001b[0;32m--> 859\u001b[0;31m             \u001b[0mpassword\u001b[0m\u001b[0;34m=\u001b[0m\u001b[0;32mFalse\u001b[0m\u001b[0;34m,\u001b[0m\u001b[0;34m\u001b[0m\u001b[0;34m\u001b[0m\u001b[0m\n\u001b[0m\u001b[1;32m    860\u001b[0m         )\n\u001b[1;32m    861\u001b[0m \u001b[0;34m\u001b[0m\u001b[0m\n",
      "\u001b[0;32m~/.local/share/virtualenvs/HealthieBackend-E094tIFl/lib/python3.7/site-packages/ipykernel/kernelbase.py\u001b[0m in \u001b[0;36m_input_request\u001b[0;34m(self, prompt, ident, parent, password)\u001b[0m\n\u001b[1;32m    887\u001b[0m             \u001b[0;32mexcept\u001b[0m \u001b[0mKeyboardInterrupt\u001b[0m\u001b[0;34m:\u001b[0m\u001b[0;34m\u001b[0m\u001b[0;34m\u001b[0m\u001b[0m\n\u001b[1;32m    888\u001b[0m                 \u001b[0;31m# re-raise KeyboardInterrupt, to truncate traceback\u001b[0m\u001b[0;34m\u001b[0m\u001b[0;34m\u001b[0m\u001b[0;34m\u001b[0m\u001b[0m\n\u001b[0;32m--> 889\u001b[0;31m                 \u001b[0;32mraise\u001b[0m \u001b[0mKeyboardInterrupt\u001b[0m\u001b[0;34m\u001b[0m\u001b[0;34m\u001b[0m\u001b[0m\n\u001b[0m\u001b[1;32m    890\u001b[0m             \u001b[0;32melse\u001b[0m\u001b[0;34m:\u001b[0m\u001b[0;34m\u001b[0m\u001b[0;34m\u001b[0m\u001b[0m\n\u001b[1;32m    891\u001b[0m                 \u001b[0;32mbreak\u001b[0m\u001b[0;34m\u001b[0m\u001b[0;34m\u001b[0m\u001b[0m\n",
      "\u001b[0;31mKeyboardInterrupt\u001b[0m: "
     ]
    }
   ],
   "source": [
    "for i in range(1600, len(uris), 10):\n",
    "    print(labels[i])\n",
    "    data[uris[i]]['food_type'] = input()"
   ]
  },
  {
   "cell_type": "code",
   "execution_count": null,
   "metadata": {},
   "outputs": [],
   "source": []
  },
  {
   "cell_type": "code",
   "execution_count": 43,
   "metadata": {},
   "outputs": [],
   "source": [
    "food_type_labels = []\n",
    "for i, recipe in enumerate(data):\n",
    "    if 'food_type' in data[recipe]:\n",
    "        food_type_labels.append(int(data[recipe]['food_type']))\n",
    "    else:\n",
    "        food_type_labels.append(-1)\n",
    "\n",
    "food_type_labels = np.array(food_type_labels)"
   ]
  },
  {
   "cell_type": "code",
   "execution_count": 44,
   "metadata": {},
   "outputs": [
    {
     "data": {
      "text/plain": [
       "(406, 130)"
      ]
     },
     "execution_count": 44,
     "metadata": {},
     "output_type": "execute_result"
    }
   ],
   "source": [
    "(food_type_labels == 0).sum(), (food_type_labels == 1).sum()"
   ]
  },
  {
   "cell_type": "code",
   "execution_count": 45,
   "metadata": {},
   "outputs": [
    {
     "data": {
      "text/plain": [
       "array([ 1, -1, -1, ...,  0,  0,  0])"
      ]
     },
     "execution_count": 45,
     "metadata": {},
     "output_type": "execute_result"
    }
   ],
   "source": [
    "food_type_labels"
   ]
  },
  {
   "cell_type": "code",
   "execution_count": 50,
   "metadata": {},
   "outputs": [
    {
     "data": {
      "text/plain": [
       "(2224, (2224,))"
      ]
     },
     "execution_count": 50,
     "metadata": {},
     "output_type": "execute_result"
    }
   ],
   "source": [
    "len(vectors), food_type_labels.shape"
   ]
  },
  {
   "cell_type": "code",
   "execution_count": 51,
   "metadata": {},
   "outputs": [
    {
     "data": {
      "text/plain": [
       "LabelPropagation(gamma=20, kernel='rbf', max_iter=1000, n_jobs=None,\n",
       "                 n_neighbors=7, tol=0.001)"
      ]
     },
     "execution_count": 51,
     "metadata": {},
     "output_type": "execute_result"
    }
   ],
   "source": [
    "from sklearn.semi_supervised import LabelPropagation\n",
    "label_prop_model = LabelPropagation()\n",
    "label_prop_model.fit(vectors, food_type_labels)"
   ]
  },
  {
   "cell_type": "code",
   "execution_count": 52,
   "metadata": {},
   "outputs": [],
   "source": [
    "new_labels = label_prop_model.predict(vectors)"
   ]
  },
  {
   "cell_type": "code",
   "execution_count": 54,
   "metadata": {},
   "outputs": [
    {
     "data": {
      "text/plain": [
       "(2216, 8)"
      ]
     },
     "execution_count": 54,
     "metadata": {},
     "output_type": "execute_result"
    }
   ],
   "source": [
    "(new_labels == 0).sum(), (new_labels == 1).sum()"
   ]
  },
  {
   "cell_type": "code",
   "execution_count": null,
   "metadata": {},
   "outputs": [],
   "source": []
  },
  {
   "cell_type": "code",
   "execution_count": null,
   "metadata": {},
   "outputs": [],
   "source": []
  },
  {
   "cell_type": "code",
   "execution_count": null,
   "metadata": {},
   "outputs": [],
   "source": []
  },
  {
   "cell_type": "code",
   "execution_count": null,
   "metadata": {},
   "outputs": [],
   "source": []
  },
  {
   "cell_type": "code",
   "execution_count": null,
   "metadata": {},
   "outputs": [],
   "source": []
  },
  {
   "cell_type": "code",
   "execution_count": 55,
   "metadata": {},
   "outputs": [
    {
     "name": "stdout",
     "output_type": "stream",
     "text": [
      "http://www.edamam.com/ontologies/edamam.owl#recipe_b1957a6a4025b25f6da6aef1fad452d4\n"
     ]
    }
   ],
   "source": [
    "for i in data:\n",
    "    print(i)\n",
    "    break"
   ]
  },
  {
   "cell_type": "code",
   "execution_count": 32,
   "metadata": {},
   "outputs": [],
   "source": [
    "# with open('/Users/ed/Development/Healthi/HealthieBackend/resources/data/recipe_collection.json', 'w') as fp:\n",
    "#     json.dump(data, fp)"
   ]
  }
 ],
 "metadata": {
  "kernelspec": {
   "display_name": "HealthieBackend",
   "language": "python",
   "name": "healthiebackend"
  },
  "language_info": {
   "codemirror_mode": {
    "name": "ipython",
    "version": 3
   },
   "file_extension": ".py",
   "mimetype": "text/x-python",
   "name": "python",
   "nbconvert_exporter": "python",
   "pygments_lexer": "ipython3",
   "version": "3.7.5"
  }
 },
 "nbformat": 4,
 "nbformat_minor": 2
}
