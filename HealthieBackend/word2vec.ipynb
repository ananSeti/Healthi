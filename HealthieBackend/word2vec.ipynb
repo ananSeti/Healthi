{
 "cells": [
  {
   "cell_type": "code",
   "execution_count": 1,
   "metadata": {},
   "outputs": [],
   "source": [
    "import re\n",
    "import sys\n",
    "import json\n",
    "import numpy as np\n",
    "import pandas as pd\n",
    "from pprint import pprint"
   ]
  },
  {
   "cell_type": "code",
   "execution_count": 2,
   "metadata": {},
   "outputs": [
    {
     "data": {
      "text/plain": [
       "1827"
      ]
     },
     "execution_count": 2,
     "metadata": {},
     "output_type": "execute_result"
    }
   ],
   "source": [
    "with open('recipe_collection.json', 'r') as f:\n",
    "    data = json.load(f)\n",
    "len(data)"
   ]
  },
  {
   "cell_type": "code",
   "execution_count": 3,
   "metadata": {
    "scrolled": false
   },
   "outputs": [],
   "source": [
    "labels = []\n",
    "for record in data:\n",
    "    labels.append(data[record]['label'])"
   ]
  },
  {
   "cell_type": "code",
   "execution_count": 302,
   "metadata": {},
   "outputs": [],
   "source": [
    "ingredient_lists = []\n",
    "uris = []\n",
    "\n",
    "for record in data:\n",
    "    uris.append(record)\n",
    "    ingredient_lists.append(data[record]['ingredientLines'])"
   ]
  },
  {
   "cell_type": "code",
   "execution_count": 303,
   "metadata": {},
   "outputs": [
    {
     "data": {
      "text/plain": [
       "(1827, 1827)"
      ]
     },
     "execution_count": 303,
     "metadata": {},
     "output_type": "execute_result"
    }
   ],
   "source": [
    "len(labels), len(ingredient_lists)"
   ]
  },
  {
   "cell_type": "code",
   "execution_count": 304,
   "metadata": {},
   "outputs": [],
   "source": [
    "scrubbed_ingredients = []\n",
    "measurers = re.compile(r' (cups|cup|kg|tsp|sp|ounces|grams|tb|gram|ounce|mililiters|qt|tablespoon|tablespoons|teaspoon|tbs|tbsp|oz|can|large|small|pinch|bag|lb|ml|tub) ')\n",
    "descriptors = re.compile('(slice[d]?|about|finely|chopped|new|all-purpose|all purpose|thinly|thin|plus|optionalcrushed|crumbles|ground|minced|powder|chopped|sliced)')\n",
    "ammounts = re.compile(r'\\d+(\\/\\d+|\\.\\d+)?') # TODO use these to weight vector averaging?\n",
    "stopwords = re.compile(r' (or|the|other|of|to|on|for) ')\n",
    "nonascii = re.compile(r'[^\\x00-\\x7F]+')\n",
    "multiplespaces = re.compile(' +')\n",
    "\n",
    "for ingredient_list in ingredient_lists:\n",
    "    scrubbed_lines = []\n",
    "    for line in ingredient_list:\n",
    "        line = ' ' + line.lower() + ' '\n",
    "        \n",
    "        line = line.replace('*', ' ')\n",
    "        line = line.replace(':', ' ')\n",
    "        line = line.replace(',', ' ')\n",
    "        line = line.replace('.', ' ')\n",
    "        line = line.replace(')', ' ')\n",
    "        line = line.replace('(', ' ')\n",
    "        \n",
    "        line = nonascii.sub('', line)\n",
    "        line = measurers.sub('', line)\n",
    "        line = descriptors.sub('', line)\n",
    "        line = ammounts.sub('', line) \n",
    "        line = stopwords.sub('', line) \n",
    "        line = multiplespaces.sub(' ', line).strip()\n",
    "        \n",
    "        line = ' '.join( [w for w in line.split() if len(w)>1] )\n",
    "        \n",
    "        scrubbed_lines.append(line)\n",
    "        \n",
    "    scrubbed_ingredients.append(scrubbed_lines)"
   ]
  },
  {
   "cell_type": "code",
   "execution_count": 305,
   "metadata": {},
   "outputs": [
    {
     "name": "stdout",
     "output_type": "stream",
     "text": [
      "2 cups instant rice (such as Minute Rice)                    | instant rice such as minute rice\n",
      "1/2 cup vanilla ice cream                                    | vanilla ice cream\n",
      "1/2 teaspoon ground cinnamon, plus more for garnishing (optional) | cinnamon moregarnishing optional\n"
     ]
    }
   ],
   "source": [
    "idx = 14\n",
    "for i in range(len(ingredient_lists[idx])):\n",
    "    print(f'{ingredient_lists[idx][i]:<60} | {scrubbed_ingredients[idx][i]}')"
   ]
  },
  {
   "cell_type": "code",
   "execution_count": 306,
   "metadata": {},
   "outputs": [
    {
     "data": {
      "text/plain": [
       "7457"
      ]
     },
     "execution_count": 306,
     "metadata": {},
     "output_type": "execute_result"
    }
   ],
   "source": [
    "from collections import Counter\n",
    "vocab = Counter((line for ingredientlist in scrubbed_ingredients for line in ingredientlist))\n",
    "sorted_vocab = sorted(vocab.items(), key=lambda x:x[1], reverse=True)\n",
    "len(sorted_vocab)"
   ]
  },
  {
   "cell_type": "code",
   "execution_count": 307,
   "metadata": {
    "scrolled": true
   },
   "outputs": [
    {
     "data": {
      "text/plain": [
       "[('salt', 447),\n",
       " ('olive oil', 280),\n",
       " ('eggs', 223),\n",
       " ('sugar', 207),\n",
       " ('flour', 187),\n",
       " ('water', 171),\n",
       " ('onion', 135),\n",
       " ('kosher salt', 119),\n",
       " ('butter', 115),\n",
       " ('vegetable oil', 92),\n",
       " ('cloves garlic', 85),\n",
       " ('freshly black pepper', 83),\n",
       " ('extra-virgin olive oil', 81),\n",
       " ('vanilla extract', 80),\n",
       " ('unsalted butter', 75),\n",
       " ('milk', 73),\n",
       " ('baking', 72),\n",
       " ('heavy cream', 69),\n",
       " ('egg', 68),\n",
       " ('pepper', 65),\n",
       " ('cumin', 64),\n",
       " ('garlic cloves', 63),\n",
       " ('clove garlic', 58),\n",
       " ('granulated sugar', 57),\n",
       " ('lemon juice', 56),\n",
       " ('black pepper', 54),\n",
       " ('baking soda', 53),\n",
       " ('soy sauce', 52),\n",
       " ('cinnamon', 51),\n",
       " ('fresh lemon juice', 51),\n",
       " ('garlic', 50),\n",
       " ('garlic clove', 48),\n",
       " ('scallions', 48),\n",
       " ('salt and pepper', 46),\n",
       " ('freshly pepper', 44),\n",
       " ('mayonnaise', 42),\n",
       " ('red onion', 41),\n",
       " ('fresh parsley', 39),\n",
       " ('cooking spray', 39),\n",
       " ('fresh cilantro', 38),\n",
       " ('whole milk', 38),\n",
       " ('kosher salt and freshly black pepper', 37),\n",
       " ('green onions', 37),\n",
       " ('sour cream', 35),\n",
       " ('chicken broth', 34),\n",
       " ('tomato paste', 34),\n",
       " ('salt and freshly black pepper', 31),\n",
       " ('medium onion', 30),\n",
       " ('dijon mustard', 30),\n",
       " ('cake flour', 30),\n",
       " ('egg yolks', 29),\n",
       " ('bay leaf', 29),\n",
       " ('egg whites', 29),\n",
       " ('rice vinegar', 28),\n",
       " ('canola oil', 28),\n",
       " ('salt and peppertaste', 28),\n",
       " ('fresh lime juice', 27),\n",
       " ('bay leaves', 26),\n",
       " ('grated parmesan cheese', 26),\n",
       " ('extra virgin olive oil', 26),\n",
       " ('parsley', 25),\n",
       " ('cayenne pepper', 25),\n",
       " ('shallot', 24),\n",
       " ('shallots', 24),\n",
       " ('tomato', 24),\n",
       " ('paprika', 24),\n",
       " ('chicken stock', 23),\n",
       " ('cilantro', 23),\n",
       " ('balsamic vinegar', 23),\n",
       " ('honey', 22),\n",
       " ('oil', 22),\n",
       " ('coarse salt', 22),\n",
       " ('dried oregano', 22),\n",
       " ('pizza sauce', 22),\n",
       " (\"confectioners' sugar\", 22),\n",
       " ('teaspoons baking', 22),\n",
       " ('chili', 22),\n",
       " ('vanilla', 21),\n",
       " ('dumplings', 21),\n",
       " ('cornstarch', 20),\n",
       " ('ed sugar', 20),\n",
       " ('buttermilk', 20),\n",
       " ('sesame oil', 20),\n",
       " ('dried thyme', 19),\n",
       " ('onions', 19),\n",
       " ('dry white wine', 19),\n",
       " ('smoked salmon', 19),\n",
       " ('taco shells', 19),\n",
       " ('ginger', 18),\n",
       " ('unbleached flour', 18),\n",
       " ('teaspoons vanilla extract', 18),\n",
       " ('red bell pepper', 17),\n",
       " ('teaspoons salt', 17),\n",
       " ('carrots', 17),\n",
       " ('fresh basil', 17),\n",
       " ('allspice', 17),\n",
       " ('pure vanilla extract', 17),\n",
       " ('kosher salt and freshly pepper', 17),\n",
       " ('salsa', 17),\n",
       " ('cloves', 16)]"
      ]
     },
     "execution_count": 307,
     "metadata": {},
     "output_type": "execute_result"
    }
   ],
   "source": [
    "sorted_vocab[:100]"
   ]
  },
  {
   "cell_type": "code",
   "execution_count": 308,
   "metadata": {
    "scrolled": true
   },
   "outputs": [
    {
     "data": {
      "text/plain": [
       "[('tomato passata', 1),\n",
       " ('beaten egg brushing', 1),\n",
       " ('dark muscovado sugar', 1),\n",
       " ('saffron threads steeped in hot waterat least minutes', 1),\n",
       " ('the saffron custard', 1),\n",
       " ('the tomato sauce', 1),\n",
       " ('tomato pound', 1),\n",
       " ('seeded jalapeo pepper', 1),\n",
       " ('vegetable stock crumbled stock cube', 1),\n",
       " ('few basil leaves', 1),\n",
       " ('handfulbasil leaves optional', 1),\n",
       " ('tins plum tomato drained', 1),\n",
       " ('fresh garlic', 1),\n",
       " ('seeded peeled tomato', 1),\n",
       " ('low-sodium tomato juice', 1),\n",
       " ('basil leaves optional', 1),\n",
       " ('-inch-thick diagonally cut french bread baguette', 1),\n",
       " ('packetpizza dough mix made up', 1),\n",
       " ('capers rinsed and drained', 1),\n",
       " ('taleggio cheese', 1),\n",
       " ('-ounce part-skim mozzarella', 1),\n",
       " ('tintomato puree', 1),\n",
       " ('tinstomatoes', 1),\n",
       " ('tubmascarpone', 1),\n",
       " ('bunch fresh basil somegarnish', 1),\n",
       " ('tubsour cream', 1),\n",
       " ('roundedsalt', 1),\n",
       " ('sultana', 1),\n",
       " ('cooking apple', 1),\n",
       " ('light muscovado sugar', 1),\n",
       " ('litre jar spiced pickling vinegar', 1),\n",
       " ('-ounce part-skim mozzarella cheese', 1),\n",
       " ('vine-ripened tomato', 1),\n",
       " ('handfulsfresh coriander', 1),\n",
       " ('cumin seed', 1),\n",
       " ('plum tomato pounds', 1),\n",
       " ('seeded peeled plum tomato pounds', 1),\n",
       " ('golden caster sugar', 1),\n",
       " ('vinegar white redbalsamic', 1),\n",
       " ('tomatopassata', 1),\n",
       " ('vegetable stock made with cubes', 1),\n",
       " ('rice long-grain basmati wild browna mixture', 1),\n",
       " ('pack parsley leaves only and few dropspesto serve optional', 1),\n",
       " ('leaves fresh basil optional', 1),\n",
       " ('organic tomato juice', 1),\n",
       " ('ice moreglasses', 1),\n",
       " ('soda water', 1),\n",
       " ('pint grapeheirloom tomatoes optional', 1),\n",
       " ('tomato couscous', 1),\n",
       " ('pound asparagus spears cut into -inch pieces', 1),\n",
       " ('italian salad dressing divided', 1),\n",
       " ('halved cherry tomatoes', 1),\n",
       " ('fresh oreganodried', 1),\n",
       " ('garlic cloves roughly', 1),\n",
       " ('teaspoons saltto taste', 1),\n",
       " ('two -ounce boxes pomi tomatoestwo -ounce cans whole plum tomatoes with their liquid',\n",
       "  1),\n",
       " ('--oz green tomato cored and diced', 1),\n",
       " ('fresh basil leaves cut into strips', 1),\n",
       " ('fresh tomatoes cut into chunks', 1),\n",
       " ('red onion into chunks', 1),\n",
       " ('green bell pepper/paprika cut into chunks', 1),\n",
       " ('-red chilli peppers to taste', 1),\n",
       " ('red wine vinegar used some homemade blackberry wine vinegar', 1),\n",
       " ('aginger', 1),\n",
       " ('adried thyme', 1),\n",
       " ('adried oregano', 1),\n",
       " ('snipped fresh chives', 1),\n",
       " ('package goat cheese', 1),\n",
       " ('red tomatoes', 1),\n",
       " ('jerky-infused tequila', 1),\n",
       " ('ripe red tomato quartered', 1),\n",
       " ('jerky swizzle stickgarnish', 1),\n",
       " ('dashfreshly black pepper', 1),\n",
       " ('-inch-thick french bread baguette', 1),\n",
       " ('garlic clove halved', 1),\n",
       " ('ripe beef tomato cut into wedges', 1),\n",
       " ('few thyme sprigs leaves picked', 1),\n",
       " ('chorizo the diagonal', 1),\n",
       " ('fresh oregano dried', 1),\n",
       " ('cloves garlic coarsely', 1),\n",
       " ('teaspoons coarse salt more as needed', 1),\n",
       " ('-ounce boxes tomatoes such as pomi -ounce cans whole plum tomatoes in their juices',\n",
       "  1),\n",
       " ('very ripe tomatoes peeled seeded and one ouncesan marzano tomatoes drained and',\n",
       "  1),\n",
       " ('-fresh basil leaves julienned', 1),\n",
       " ('grated tomato', 1),\n",
       " ('teaspoons dried italian seasoning', 1),\n",
       " ('yellowred tomato', 1),\n",
       " ('plum tomatoes cut into wedges', 1),\n",
       " ('pt cherry tomatoes cut in half', 1),\n",
       " ('green leaf lettuce leaves', 1),\n",
       " ('red and ripe tomato', 1),\n",
       " ('dashsugar', 1),\n",
       " ('medium green heirloom tomato', 1),\n",
       " ('chilled red tomatoes', 1),\n",
       " ('chilled vodka', 1),\n",
       " ('ice cubes', 1),\n",
       " ('medium celery ribs and green chiles', 1),\n",
       " ('teaspoons milk', 1),\n",
       " ('aof salt and pepper', 1),\n",
       " ('vine tomato', 1)]"
      ]
     },
     "execution_count": 308,
     "metadata": {},
     "output_type": "execute_result"
    }
   ],
   "source": [
    "sorted_vocab[-100:]"
   ]
  },
  {
   "cell_type": "code",
   "execution_count": 309,
   "metadata": {},
   "outputs": [
    {
     "data": {
      "text/plain": [
       "1418"
      ]
     },
     "execution_count": 309,
     "metadata": {},
     "output_type": "execute_result"
    }
   ],
   "source": [
    "len(list(filter(lambda x: x[1] > 1, sorted_vocab)))"
   ]
  },
  {
   "cell_type": "code",
   "execution_count": 310,
   "metadata": {},
   "outputs": [],
   "source": [
    "flat_ingredients = []\n",
    "for ilist in scrubbed_ingredients:\n",
    "    doc = []\n",
    "    for line in ilist:\n",
    "        doc = doc + line.split(' ')\n",
    "    flat_ingredients.append(doc)"
   ]
  },
  {
   "cell_type": "code",
   "execution_count": 311,
   "metadata": {},
   "outputs": [
    {
     "data": {
      "text/plain": [
       "['long-grain white rice', 'water', 'salt', 'olive oil']"
      ]
     },
     "execution_count": 311,
     "metadata": {},
     "output_type": "execute_result"
    }
   ],
   "source": [
    "scrubbed_ingredients[0]"
   ]
  },
  {
   "cell_type": "code",
   "execution_count": 312,
   "metadata": {},
   "outputs": [
    {
     "data": {
      "text/plain": [
       "['long-grain', 'white', 'rice', 'water', 'salt', 'olive', 'oil']"
      ]
     },
     "execution_count": 312,
     "metadata": {},
     "output_type": "execute_result"
    }
   ],
   "source": [
    "flat_ingredients[0]"
   ]
  },
  {
   "cell_type": "code",
   "execution_count": 313,
   "metadata": {},
   "outputs": [
    {
     "data": {
      "text/plain": [
       "4300"
      ]
     },
     "execution_count": 313,
     "metadata": {},
     "output_type": "execute_result"
    }
   ],
   "source": [
    "vocab = Counter((word for doc in flat_ingredients for word in doc))\n",
    "sorted_vocab = sorted(vocab.items(), key=lambda x:x[1], reverse=True)\n",
    "len(sorted_vocab)"
   ]
  },
  {
   "cell_type": "code",
   "execution_count": 286,
   "metadata": {},
   "outputs": [],
   "source": [
    "from gensim.models import Word2Vec, FastText"
   ]
  },
  {
   "cell_type": "code",
   "execution_count": 314,
   "metadata": {},
   "outputs": [
    {
     "data": {
      "text/plain": [
       "(1827, 1827)"
      ]
     },
     "execution_count": 314,
     "metadata": {},
     "output_type": "execute_result"
    }
   ],
   "source": [
    "len(documents), len(labels)"
   ]
  },
  {
   "cell_type": "code",
   "execution_count": 315,
   "metadata": {},
   "outputs": [],
   "source": [
    "ft = FastText(\n",
    "    flat_ingredients,\n",
    "    size=32,\n",
    "    window=5,\n",
    "    min_count=3,\n",
    "    workers=4\n",
    ")"
   ]
  },
  {
   "cell_type": "code",
   "execution_count": 316,
   "metadata": {},
   "outputs": [
    {
     "data": {
      "text/plain": [
       "[('buttermilk', 0.9999326467514038),\n",
       " ('buttercream', 0.9996895790100098),\n",
       " ('butternut', 0.9996778964996338),\n",
       " ('sugarcake', 0.9995439052581787),\n",
       " ('extractcake', 0.999491810798645),\n",
       " ('unsalted', 0.9994593858718872),\n",
       " ('pure', 0.9993953704833984),\n",
       " ('granulated', 0.9993525147438049),\n",
       " ('butternonstick', 0.9993157982826233),\n",
       " ('softened', 0.9992929697036743)]"
      ]
     },
     "execution_count": 316,
     "metadata": {},
     "output_type": "execute_result"
    }
   ],
   "source": [
    "ft.wv.most_similar('butter')"
   ]
  },
  {
   "cell_type": "code",
   "execution_count": 317,
   "metadata": {},
   "outputs": [
    {
     "data": {
      "text/plain": [
       "[('eggs', 0.9998264312744141),\n",
       " ('buttermargarine', 0.9997333288192749),\n",
       " ('sweetened', 0.9997109770774841),\n",
       " ('sifted', 0.9997015595436096),\n",
       " ('make', 0.9996931552886963),\n",
       " ('bittersweet', 0.9996913075447083),\n",
       " ('margarinebutter', 0.999682605266571),\n",
       " ('melted', 0.9996783137321472),\n",
       " ('icing', 0.9996709823608398),\n",
       " ('coconut', 0.9996532797813416)]"
      ]
     },
     "execution_count": 317,
     "metadata": {},
     "output_type": "execute_result"
    }
   ],
   "source": [
    "ft.wv.most_similar('milk')"
   ]
  },
  {
   "cell_type": "code",
   "execution_count": 318,
   "metadata": {},
   "outputs": [
    {
     "data": {
      "text/plain": [
       "[('chorizo', 0.9999201893806458),\n",
       " ('cream-filled', 0.9999183416366577),\n",
       " ('creamed', 0.9999127388000488),\n",
       " ('low-fatnonfat', 0.9999001026153564),\n",
       " ('strawberries', 0.999896228313446),\n",
       " ('raspberries', 0.9998951554298401),\n",
       " ('beaten', 0.9998926520347595),\n",
       " ('cooled', 0.9998918771743774),\n",
       " ('whole-wheat', 0.9998889565467834),\n",
       " ('cranberries', 0.9998863339424133)]"
      ]
     },
     "execution_count": 318,
     "metadata": {},
     "output_type": "execute_result"
    }
   ],
   "source": [
    "ft.wv.most_similar('tortilla')"
   ]
  },
  {
   "cell_type": "code",
   "execution_count": 319,
   "metadata": {},
   "outputs": [
    {
     "data": {
      "text/plain": [
       "[('sausages', 0.9999462366104126),\n",
       " ('sage', 0.9998490810394287),\n",
       " ('pork', 0.9993568658828735),\n",
       " ('toast', 0.9993360042572021),\n",
       " ('-pound', 0.9993141889572144),\n",
       " ('least', 0.9992889165878296),\n",
       " ('breads', 0.9992820620536804),\n",
       " ('breakfast', 0.9992637634277344),\n",
       " ('breadcrumbs', 0.9992238283157349),\n",
       " ('best', 0.9992235898971558)]"
      ]
     },
     "execution_count": 319,
     "metadata": {},
     "output_type": "execute_result"
    }
   ],
   "source": [
    "ft.wv.most_similar('sausage')"
   ]
  },
  {
   "cell_type": "code",
   "execution_count": 320,
   "metadata": {},
   "outputs": [
    {
     "data": {
      "text/plain": [
       "[('sugarcake', 0.9999182224273682),\n",
       " ('granulated', 0.999729573726654),\n",
       " ('softened', 0.999713659286499),\n",
       " ('unsweetened', 0.999674916267395),\n",
       " ('extractcake', 0.9996375441551208),\n",
       " ('sodacake', 0.9996122717857361),\n",
       " ('extractthe', 0.999580979347229),\n",
       " ('chocolate', 0.999517023563385),\n",
       " ('cookies', 0.9994853734970093),\n",
       " ('cooking', 0.9994829893112183)]"
      ]
     },
     "execution_count": 320,
     "metadata": {},
     "output_type": "execute_result"
    }
   ],
   "source": [
    "ft.wv.most_similar('sugar')"
   ]
  },
  {
   "cell_type": "code",
   "execution_count": null,
   "metadata": {},
   "outputs": [],
   "source": []
  },
  {
   "cell_type": "code",
   "execution_count": null,
   "metadata": {},
   "outputs": [],
   "source": []
  },
  {
   "cell_type": "code",
   "execution_count": null,
   "metadata": {},
   "outputs": [],
   "source": [
    "w2v = Word2Vec(\n",
    "    \n",
    ")"
   ]
  },
  {
   "cell_type": "code",
   "execution_count": null,
   "metadata": {},
   "outputs": [],
   "source": []
  },
  {
   "cell_type": "code",
   "execution_count": 321,
   "metadata": {},
   "outputs": [
    {
     "data": {
      "text/plain": [
       "TaggedDocument(words=['long-grain', 'white', 'rice', 'water', 'salt', 'olive', 'oil'], tags=[0])"
      ]
     },
     "execution_count": 321,
     "metadata": {},
     "output_type": "execute_result"
    }
   ],
   "source": [
    "documents = [TaggedDocument(doc, [i]) for i, doc in enumerate(flat_ingredients)]\n",
    "documents[0]"
   ]
  },
  {
   "cell_type": "code",
   "execution_count": 322,
   "metadata": {},
   "outputs": [],
   "source": [
    "d2v = Doc2Vec(\n",
    "    documents,\n",
    "    vector_size=32,\n",
    "    window=3,\n",
    "    min_count=1,\n",
    "    workers=4,\n",
    "    epochs=40\n",
    ")\n",
    "d2v.train(documents, total_examples=d2v.corpus_count, epochs=model.epochs)"
   ]
  },
  {
   "cell_type": "code",
   "execution_count": 323,
   "metadata": {},
   "outputs": [
    {
     "data": {
      "text/plain": [
       "[('stick', 0.8460953235626221),\n",
       " ('sticks', 0.7687762975692749),\n",
       " ('seltzer', 0.7517319321632385),\n",
       " ('high-fateuropean-style', 0.7404323816299438),\n",
       " ('melted', 0.731892466545105),\n",
       " ('pecanswalnuts', 0.7221490144729614),\n",
       " ('dry-roasted', 0.7219871282577515),\n",
       " ('nutmegthe', 0.7142460942268372),\n",
       " ('flourpreparingpans', 0.71158766746521),\n",
       " ('optional;', 0.7050231099128723)]"
      ]
     },
     "execution_count": 323,
     "metadata": {},
     "output_type": "execute_result"
    }
   ],
   "source": [
    "d2v.wv.most_similar(['butter'])"
   ]
  },
  {
   "cell_type": "code",
   "execution_count": 325,
   "metadata": {},
   "outputs": [
    {
     "data": {
      "text/plain": [
       "[('substitute', 0.7625201940536499),\n",
       " ('eggsegg', 0.7280088663101196),\n",
       " ('lukewarm', 0.7253109812736511),\n",
       " ('skim', 0.7247210144996643),\n",
       " ('fat-free', 0.7209463715553284),\n",
       " ('milkbuttermilk', 0.6995106935501099),\n",
       " ('evaporated', 0.6931794881820679),\n",
       " ('lg', 0.6843627691268921),\n",
       " ('low-fat', 0.6775615215301514),\n",
       " ('carton', 0.6735019683837891)]"
      ]
     },
     "execution_count": 325,
     "metadata": {},
     "output_type": "execute_result"
    }
   ],
   "source": [
    "d2v.wv.most_similar(['milk'])"
   ]
  },
  {
   "cell_type": "code",
   "execution_count": 326,
   "metadata": {},
   "outputs": [
    {
     "data": {
      "text/plain": [
       "[('chef', 0.7315738797187805),\n",
       " ('fillo-pastry', 0.720894455909729),\n",
       " ('hard', 0.7158271670341492),\n",
       " ('crackers', 0.712313175201416),\n",
       " ('waterpickle', 0.704683244228363),\n",
       " ('salsachoice', 0.7031351327896118),\n",
       " ('marshmallows', 0.7019339799880981),\n",
       " ('pico', 0.697955846786499),\n",
       " ('refrigeratedjarred', 0.6955550312995911),\n",
       " ('warmed', 0.6953312158584595)]"
      ]
     },
     "execution_count": 326,
     "metadata": {},
     "output_type": "execute_result"
    }
   ],
   "source": [
    "d2v.wv.most_similar(['tortilla'])"
   ]
  },
  {
   "cell_type": "code",
   "execution_count": null,
   "metadata": {},
   "outputs": [],
   "source": []
  },
  {
   "cell_type": "code",
   "execution_count": null,
   "metadata": {},
   "outputs": [],
   "source": []
  },
  {
   "cell_type": "code",
   "execution_count": null,
   "metadata": {},
   "outputs": [],
   "source": []
  },
  {
   "cell_type": "code",
   "execution_count": 324,
   "metadata": {},
   "outputs": [
    {
     "data": {
      "text/plain": [
       "array([ 0.01353001,  0.00711542, -0.01081877, -0.01772552, -0.00241778,\n",
       "        0.0020362 ,  0.0029124 , -0.00906192,  0.01081262, -0.00150089,\n",
       "       -0.00280596, -0.00920009, -0.01133201,  0.00698846, -0.00938813,\n",
       "        0.00700257,  0.00222017, -0.00307623,  0.01473327,  0.00426297,\n",
       "       -0.01005636,  0.01029589, -0.01853233,  0.00537654,  0.00495433,\n",
       "       -0.00369038,  0.00647853, -0.00391025,  0.00168688, -0.00246186,\n",
       "        0.01282562,  0.00964643], dtype=float32)"
      ]
     },
     "execution_count": 324,
     "metadata": {},
     "output_type": "execute_result"
    }
   ],
   "source": [
    "\n",
    "model.infer_vector(documents[0].words)"
   ]
  },
  {
   "cell_type": "code",
   "execution_count": null,
   "metadata": {},
   "outputs": [],
   "source": []
  },
  {
   "cell_type": "code",
   "execution_count": null,
   "metadata": {},
   "outputs": [],
   "source": []
  }
 ],
 "metadata": {
  "kernelspec": {
   "display_name": "HealthieBackend",
   "language": "python",
   "name": "healthiebackend"
  },
  "language_info": {
   "codemirror_mode": {
    "name": "ipython",
    "version": 3
   },
   "file_extension": ".py",
   "mimetype": "text/x-python",
   "name": "python",
   "nbconvert_exporter": "python",
   "pygments_lexer": "ipython3",
   "version": "3.7.5"
  }
 },
 "nbformat": 4,
 "nbformat_minor": 2
}
