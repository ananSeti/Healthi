{
 "cells": [
  {
   "cell_type": "code",
   "execution_count": 1,
   "metadata": {},
   "outputs": [],
   "source": [
    "import re\n",
    "import sys\n",
    "import json\n",
    "import numpy as np\n",
    "import pandas as pd\n",
    "from pprint import pprint"
   ]
  },
  {
   "cell_type": "code",
   "execution_count": 2,
   "metadata": {},
   "outputs": [
    {
     "data": {
      "text/plain": [
       "1827"
      ]
     },
     "execution_count": 2,
     "metadata": {},
     "output_type": "execute_result"
    }
   ],
   "source": [
    "with open('recipe_collection.json', 'r') as f:\n",
    "    data = json.load(f)\n",
    "len(data)"
   ]
  },
  {
   "cell_type": "code",
   "execution_count": 3,
   "metadata": {
    "scrolled": false
   },
   "outputs": [],
   "source": [
    "labels = []\n",
    "for record in data:\n",
    "    labels.append(data[record]['label'])"
   ]
  },
  {
   "cell_type": "code",
   "execution_count": 4,
   "metadata": {},
   "outputs": [],
   "source": [
    "ingredient_lists = []\n",
    "for record in data:\n",
    "    ingredient_lists.append(data[record]['ingredientLines'])"
   ]
  },
  {
   "cell_type": "code",
   "execution_count": 5,
   "metadata": {},
   "outputs": [
    {
     "data": {
      "text/plain": [
       "(1827, 1827)"
      ]
     },
     "execution_count": 5,
     "metadata": {},
     "output_type": "execute_result"
    }
   ],
   "source": [
    "len(labels), len(ingredient_lists)"
   ]
  },
  {
   "cell_type": "code",
   "execution_count": 233,
   "metadata": {},
   "outputs": [],
   "source": [
    "scrubbed_ingredients = []\n",
    "measurers = re.compile(r' (cups|cup|kg|tsp|sp|ounces|grams|tb|gram|ounce|mililiters|qt|tablespoon|tablespoons|teaspoon|tbs|tbsp|oz|can|large|small|pinch|bag|lb|ml|tub) ')\n",
    "descriptors = re.compile('(slice[d]?|about|finely|chopped|new|all-purpose|all purpose|thinly|thin|plus|optionalcrushed|crumbles|ground|minced|powder|chopped|sliced)')\n",
    "ammounts = re.compile(r'\\d+(\\/\\d+|\\.\\d+)?') # TODO use these to weight vector averaging?\n",
    "stopwords = re.compile(r' (or|the|other|of|to|on|for) ')\n",
    "nonascii = re.compile(r'[^\\x00-\\x7F]+')\n",
    "multiplespaces = re.compile(' +')\n",
    "\n",
    "for ingredient_list in ingredient_lists:\n",
    "    scrubbed_lines = []\n",
    "    for line in ingredient_list:\n",
    "        line = ' ' + line.lower() + ' '\n",
    "        \n",
    "        line = line.replace('*', ' ')\n",
    "        line = line.replace(':', ' ')\n",
    "        line = line.replace(',', ' ')\n",
    "        line = line.replace('.', ' ')\n",
    "        line = line.replace(')', ' ')\n",
    "        line = line.replace('(', ' ')\n",
    "        \n",
    "        line = nonascii.sub('', line)\n",
    "        line = measurers.sub('', line)\n",
    "        line = descriptors.sub('', line)\n",
    "        line = ammounts.sub('', line) \n",
    "        line = stopwords.sub('', line) \n",
    "        line = multiplespaces.sub(' ', line).strip()\n",
    "        \n",
    "        line = ' '.join( [w for w in line.split() if len(w)>1] )\n",
    "        \n",
    "        scrubbed_lines.append(line)\n",
    "        \n",
    "    scrubbed_ingredients.append(scrubbed_lines)"
   ]
  },
  {
   "cell_type": "code",
   "execution_count": 234,
   "metadata": {},
   "outputs": [
    {
     "name": "stdout",
     "output_type": "stream",
     "text": [
      "2 cups instant rice (such as Minute Rice)                    | instant rice such as minute rice\n",
      "1/2 cup vanilla ice cream                                    | vanilla ice cream\n",
      "1/2 teaspoon ground cinnamon, plus more for garnishing (optional) | cinnamon moregarnishing optional\n"
     ]
    }
   ],
   "source": [
    "idx = 14\n",
    "for i in range(len(ingredient_lists[idx])):\n",
    "    print(f'{ingredient_lists[idx][i]:<60} | {scrubbed_ingredients[idx][i]}')"
   ]
  },
  {
   "cell_type": "code",
   "execution_count": 235,
   "metadata": {},
   "outputs": [
    {
     "data": {
      "text/plain": [
       "7457"
      ]
     },
     "execution_count": 235,
     "metadata": {},
     "output_type": "execute_result"
    }
   ],
   "source": [
    "from collections import Counter\n",
    "vocab = Counter((line for ingredientlist in scrubbed_ingredients for line in ingredientlist))\n",
    "sorted_vocab = sorted(vocab.items(), key=lambda x:x[1], reverse=True)\n",
    "len(sorted_vocab)"
   ]
  },
  {
   "cell_type": "code",
   "execution_count": 236,
   "metadata": {
    "scrolled": true
   },
   "outputs": [
    {
     "data": {
      "text/plain": [
       "[('salt', 447),\n",
       " ('olive oil', 280),\n",
       " ('eggs', 223),\n",
       " ('sugar', 207),\n",
       " ('flour', 187),\n",
       " ('water', 171),\n",
       " ('onion', 135),\n",
       " ('kosher salt', 119),\n",
       " ('butter', 115),\n",
       " ('vegetable oil', 92),\n",
       " ('cloves garlic', 85),\n",
       " ('freshly black pepper', 83),\n",
       " ('extra-virgin olive oil', 81),\n",
       " ('vanilla extract', 80),\n",
       " ('unsalted butter', 75),\n",
       " ('milk', 73),\n",
       " ('baking', 72),\n",
       " ('heavy cream', 69),\n",
       " ('egg', 68),\n",
       " ('pepper', 65),\n",
       " ('cumin', 64),\n",
       " ('garlic cloves', 63),\n",
       " ('clove garlic', 58),\n",
       " ('granulated sugar', 57),\n",
       " ('lemon juice', 56),\n",
       " ('black pepper', 54),\n",
       " ('baking soda', 53),\n",
       " ('soy sauce', 52),\n",
       " ('cinnamon', 51),\n",
       " ('fresh lemon juice', 51),\n",
       " ('garlic', 50),\n",
       " ('garlic clove', 48),\n",
       " ('scallions', 48),\n",
       " ('salt and pepper', 46),\n",
       " ('freshly pepper', 44),\n",
       " ('mayonnaise', 42),\n",
       " ('red onion', 41),\n",
       " ('fresh parsley', 39),\n",
       " ('cooking spray', 39),\n",
       " ('fresh cilantro', 38),\n",
       " ('whole milk', 38),\n",
       " ('kosher salt and freshly black pepper', 37),\n",
       " ('green onions', 37),\n",
       " ('sour cream', 35),\n",
       " ('chicken broth', 34),\n",
       " ('tomato paste', 34),\n",
       " ('salt and freshly black pepper', 31),\n",
       " ('medium onion', 30),\n",
       " ('dijon mustard', 30),\n",
       " ('cake flour', 30),\n",
       " ('egg yolks', 29),\n",
       " ('bay leaf', 29),\n",
       " ('egg whites', 29),\n",
       " ('rice vinegar', 28),\n",
       " ('canola oil', 28),\n",
       " ('salt and peppertaste', 28),\n",
       " ('fresh lime juice', 27),\n",
       " ('bay leaves', 26),\n",
       " ('grated parmesan cheese', 26),\n",
       " ('extra virgin olive oil', 26),\n",
       " ('parsley', 25),\n",
       " ('cayenne pepper', 25),\n",
       " ('shallot', 24),\n",
       " ('shallots', 24),\n",
       " ('tomato', 24),\n",
       " ('paprika', 24),\n",
       " ('chicken stock', 23),\n",
       " ('cilantro', 23),\n",
       " ('balsamic vinegar', 23),\n",
       " ('honey', 22),\n",
       " ('oil', 22),\n",
       " ('coarse salt', 22),\n",
       " ('dried oregano', 22),\n",
       " ('pizza sauce', 22),\n",
       " (\"confectioners' sugar\", 22),\n",
       " ('teaspoons baking', 22),\n",
       " ('chili', 22),\n",
       " ('vanilla', 21),\n",
       " ('dumplings', 21),\n",
       " ('cornstarch', 20),\n",
       " ('ed sugar', 20),\n",
       " ('buttermilk', 20),\n",
       " ('sesame oil', 20),\n",
       " ('dried thyme', 19),\n",
       " ('onions', 19),\n",
       " ('dry white wine', 19),\n",
       " ('smoked salmon', 19),\n",
       " ('taco shells', 19),\n",
       " ('ginger', 18),\n",
       " ('unbleached flour', 18),\n",
       " ('teaspoons vanilla extract', 18),\n",
       " ('red bell pepper', 17),\n",
       " ('teaspoons salt', 17),\n",
       " ('carrots', 17),\n",
       " ('fresh basil', 17),\n",
       " ('allspice', 17),\n",
       " ('pure vanilla extract', 17),\n",
       " ('kosher salt and freshly pepper', 17),\n",
       " ('salsa', 17),\n",
       " ('cloves', 16)]"
      ]
     },
     "execution_count": 236,
     "metadata": {},
     "output_type": "execute_result"
    }
   ],
   "source": [
    "sorted_vocab[:100]"
   ]
  },
  {
   "cell_type": "code",
   "execution_count": 237,
   "metadata": {
    "scrolled": true
   },
   "outputs": [
    {
     "data": {
      "text/plain": [
       "[('tomato passata', 1),\n",
       " ('beaten egg brushing', 1),\n",
       " ('dark muscovado sugar', 1),\n",
       " ('saffron threads steeped in hot waterat least minutes', 1),\n",
       " ('the saffron custard', 1),\n",
       " ('the tomato sauce', 1),\n",
       " ('tomato pound', 1),\n",
       " ('seeded jalapeo pepper', 1),\n",
       " ('vegetable stock crumbled stock cube', 1),\n",
       " ('few basil leaves', 1),\n",
       " ('handfulbasil leaves optional', 1),\n",
       " ('tins plum tomato drained', 1),\n",
       " ('fresh garlic', 1),\n",
       " ('seeded peeled tomato', 1),\n",
       " ('low-sodium tomato juice', 1),\n",
       " ('basil leaves optional', 1),\n",
       " ('-inch-thick diagonally cut french bread baguette', 1),\n",
       " ('packetpizza dough mix made up', 1),\n",
       " ('capers rinsed and drained', 1),\n",
       " ('taleggio cheese', 1),\n",
       " ('-ounce part-skim mozzarella', 1),\n",
       " ('tintomato puree', 1),\n",
       " ('tinstomatoes', 1),\n",
       " ('tubmascarpone', 1),\n",
       " ('bunch fresh basil somegarnish', 1),\n",
       " ('tubsour cream', 1),\n",
       " ('roundedsalt', 1),\n",
       " ('sultana', 1),\n",
       " ('cooking apple', 1),\n",
       " ('light muscovado sugar', 1),\n",
       " ('litre jar spiced pickling vinegar', 1),\n",
       " ('-ounce part-skim mozzarella cheese', 1),\n",
       " ('vine-ripened tomato', 1),\n",
       " ('handfulsfresh coriander', 1),\n",
       " ('cumin seed', 1),\n",
       " ('plum tomato pounds', 1),\n",
       " ('seeded peeled plum tomato pounds', 1),\n",
       " ('golden caster sugar', 1),\n",
       " ('vinegar white redbalsamic', 1),\n",
       " ('tomatopassata', 1),\n",
       " ('vegetable stock made with cubes', 1),\n",
       " ('rice long-grain basmati wild browna mixture', 1),\n",
       " ('pack parsley leaves only and few dropspesto serve optional', 1),\n",
       " ('leaves fresh basil optional', 1),\n",
       " ('organic tomato juice', 1),\n",
       " ('ice moreglasses', 1),\n",
       " ('soda water', 1),\n",
       " ('pint grapeheirloom tomatoes optional', 1),\n",
       " ('tomato couscous', 1),\n",
       " ('pound asparagus spears cut into -inch pieces', 1),\n",
       " ('italian salad dressing divided', 1),\n",
       " ('halved cherry tomatoes', 1),\n",
       " ('fresh oreganodried', 1),\n",
       " ('garlic cloves roughly', 1),\n",
       " ('teaspoons saltto taste', 1),\n",
       " ('two -ounce boxes pomi tomatoestwo -ounce cans whole plum tomatoes with their liquid',\n",
       "  1),\n",
       " ('--oz green tomato cored and diced', 1),\n",
       " ('fresh basil leaves cut into strips', 1),\n",
       " ('fresh tomatoes cut into chunks', 1),\n",
       " ('red onion into chunks', 1),\n",
       " ('green bell pepper/paprika cut into chunks', 1),\n",
       " ('-red chilli peppers to taste', 1),\n",
       " ('red wine vinegar used some homemade blackberry wine vinegar', 1),\n",
       " ('aginger', 1),\n",
       " ('adried thyme', 1),\n",
       " ('adried oregano', 1),\n",
       " ('snipped fresh chives', 1),\n",
       " ('package goat cheese', 1),\n",
       " ('red tomatoes', 1),\n",
       " ('jerky-infused tequila', 1),\n",
       " ('ripe red tomato quartered', 1),\n",
       " ('jerky swizzle stickgarnish', 1),\n",
       " ('dashfreshly black pepper', 1),\n",
       " ('-inch-thick french bread baguette', 1),\n",
       " ('garlic clove halved', 1),\n",
       " ('ripe beef tomato cut into wedges', 1),\n",
       " ('few thyme sprigs leaves picked', 1),\n",
       " ('chorizo the diagonal', 1),\n",
       " ('fresh oregano dried', 1),\n",
       " ('cloves garlic coarsely', 1),\n",
       " ('teaspoons coarse salt more as needed', 1),\n",
       " ('-ounce boxes tomatoes such as pomi -ounce cans whole plum tomatoes in their juices',\n",
       "  1),\n",
       " ('very ripe tomatoes peeled seeded and one ouncesan marzano tomatoes drained and',\n",
       "  1),\n",
       " ('-fresh basil leaves julienned', 1),\n",
       " ('grated tomato', 1),\n",
       " ('teaspoons dried italian seasoning', 1),\n",
       " ('yellowred tomato', 1),\n",
       " ('plum tomatoes cut into wedges', 1),\n",
       " ('pt cherry tomatoes cut in half', 1),\n",
       " ('green leaf lettuce leaves', 1),\n",
       " ('red and ripe tomato', 1),\n",
       " ('dashsugar', 1),\n",
       " ('medium green heirloom tomato', 1),\n",
       " ('chilled red tomatoes', 1),\n",
       " ('chilled vodka', 1),\n",
       " ('ice cubes', 1),\n",
       " ('medium celery ribs and green chiles', 1),\n",
       " ('teaspoons milk', 1),\n",
       " ('aof salt and pepper', 1),\n",
       " ('vine tomato', 1)]"
      ]
     },
     "execution_count": 237,
     "metadata": {},
     "output_type": "execute_result"
    }
   ],
   "source": [
    "sorted_vocab[-100:]"
   ]
  },
  {
   "cell_type": "code",
   "execution_count": 238,
   "metadata": {},
   "outputs": [
    {
     "data": {
      "text/plain": [
       "1418"
      ]
     },
     "execution_count": 238,
     "metadata": {},
     "output_type": "execute_result"
    }
   ],
   "source": [
    "len(list(filter(lambda x: x[1] > 1, sorted_vocab)))"
   ]
  },
  {
   "cell_type": "code",
   "execution_count": 258,
   "metadata": {},
   "outputs": [],
   "source": [
    "flat_ingredients = []\n",
    "for ilist in scrubbed_ingredients:\n",
    "    doc = []\n",
    "    for line in ilist:\n",
    "        doc = doc + line.split(' ')\n",
    "    flat_ingredients.append(doc)"
   ]
  },
  {
   "cell_type": "code",
   "execution_count": 259,
   "metadata": {},
   "outputs": [
    {
     "data": {
      "text/plain": [
       "['long-grain white rice', 'water', 'salt', 'olive oil']"
      ]
     },
     "execution_count": 259,
     "metadata": {},
     "output_type": "execute_result"
    }
   ],
   "source": [
    "scrubbed_ingredients[0]"
   ]
  },
  {
   "cell_type": "code",
   "execution_count": 260,
   "metadata": {},
   "outputs": [
    {
     "data": {
      "text/plain": [
       "['long-grain', 'white', 'rice', 'water', 'salt', 'olive', 'oil']"
      ]
     },
     "execution_count": 260,
     "metadata": {},
     "output_type": "execute_result"
    }
   ],
   "source": [
    "flat_ingredients[0]"
   ]
  },
  {
   "cell_type": "code",
   "execution_count": 261,
   "metadata": {},
   "outputs": [
    {
     "data": {
      "text/plain": [
       "4300"
      ]
     },
     "execution_count": 261,
     "metadata": {},
     "output_type": "execute_result"
    }
   ],
   "source": [
    "vocab = Counter((word for doc in flat_ingredients for word in doc))\n",
    "sorted_vocab = sorted(vocab.items(), key=lambda x:x[1], reverse=True)\n",
    "len(sorted_vocab)"
   ]
  },
  {
   "cell_type": "code",
   "execution_count": 286,
   "metadata": {},
   "outputs": [],
   "source": [
    "from gensim.models import Word2Vec, FastText"
   ]
  },
  {
   "cell_type": "code",
   "execution_count": 267,
   "metadata": {},
   "outputs": [
    {
     "data": {
      "text/plain": [
       "(1827, 1827)"
      ]
     },
     "execution_count": 267,
     "metadata": {},
     "output_type": "execute_result"
    }
   ],
   "source": [
    "len(documents), len(labels)"
   ]
  },
  {
   "cell_type": "code",
   "execution_count": 268,
   "metadata": {},
   "outputs": [],
   "source": [
    "ft = FastText(\n",
    "    flat_ingredients,\n",
    "    size=32,\n",
    "    window=5,\n",
    "    min_count=3,\n",
    "    workers=4\n",
    ")"
   ]
  },
  {
   "cell_type": "code",
   "execution_count": 283,
   "metadata": {},
   "outputs": [
    {
     "data": {
      "text/plain": [
       "[('buttermilk', 0.9999380111694336),\n",
       " ('buttercream', 0.9997366070747375),\n",
       " ('butternut', 0.9996468424797058),\n",
       " ('pure', 0.9994291067123413),\n",
       " ('butternonstick', 0.9993642568588257),\n",
       " ('granulated', 0.9993410706520081),\n",
       " ('sugarcake', 0.9992921948432922),\n",
       " ('sodacake', 0.9992570877075195),\n",
       " ('cake', 0.9992561936378479),\n",
       " ('mixture', 0.9992228746414185)]"
      ]
     },
     "execution_count": 283,
     "metadata": {},
     "output_type": "execute_result"
    }
   ],
   "source": [
    "ft.wv.most_similar('butter')"
   ]
  },
  {
   "cell_type": "code",
   "execution_count": 282,
   "metadata": {},
   "outputs": [
    {
     "data": {
      "text/plain": [
       "[('eggs', 0.9997900724411011),\n",
       " ('sweetened', 0.9997531175613403),\n",
       " ('bittersweet', 0.9997435212135315),\n",
       " ('icing', 0.999705970287323),\n",
       " ('quick-cooking', 0.9997024536132812),\n",
       " ('flour', 0.9996886253356934),\n",
       " ('cream', 0.9996626377105713),\n",
       " ('make', 0.9996609687805176),\n",
       " ('making', 0.9996545910835266),\n",
       " ('dusting', 0.9996429681777954)]"
      ]
     },
     "execution_count": 282,
     "metadata": {},
     "output_type": "execute_result"
    }
   ],
   "source": [
    "ft.wv.most_similar('milk')"
   ]
  },
  {
   "cell_type": "code",
   "execution_count": 281,
   "metadata": {},
   "outputs": [
    {
     "data": {
      "text/plain": [
       "[('whole', 0.9999223947525024),\n",
       " ('low-fatnonfat', 0.9999113082885742),\n",
       " ('whole-wheat', 0.9999065399169922),\n",
       " ('raspberries', 0.9999063014984131),\n",
       " ('strawberries', 0.9999051094055176),\n",
       " ('beaten', 0.9999011754989624),\n",
       " ('chorizo', 0.9998979568481445),\n",
       " ('cranberries', 0.9998958110809326),\n",
       " ('wheat', 0.9998924136161804),\n",
       " ('creamed', 0.9998872876167297)]"
      ]
     },
     "execution_count": 281,
     "metadata": {},
     "output_type": "execute_result"
    }
   ],
   "source": [
    "ft.wv.most_similar('tortilla')"
   ]
  },
  {
   "cell_type": "code",
   "execution_count": 280,
   "metadata": {},
   "outputs": [
    {
     "data": {
      "text/plain": [
       "[('sausages', 0.9999262690544128),\n",
       " ('sage', 0.9998476505279541),\n",
       " ('breads', 0.9994004368782043),\n",
       " ('breasts', 0.9994001388549805),\n",
       " ('breast', 0.9993953704833984),\n",
       " ('toast', 0.9993199706077576),\n",
       " ('pork', 0.9993152618408203),\n",
       " ('breadcrumbs', 0.9993128776550293),\n",
       " ('bread', 0.9993095993995667),\n",
       " ('breakfast', 0.9993026256561279)]"
      ]
     },
     "execution_count": 280,
     "metadata": {},
     "output_type": "execute_result"
    }
   ],
   "source": [
    "ft.wv.most_similar('sausage')"
   ]
  },
  {
   "cell_type": "code",
   "execution_count": 284,
   "metadata": {},
   "outputs": [
    {
     "data": {
      "text/plain": [
       "[('granulated', 0.9997829794883728),\n",
       " ('sugarcake', 0.9997773170471191),\n",
       " ('egg', 0.9997565746307373),\n",
       " ('unsweetened', 0.9997162818908691),\n",
       " ('softened', 0.9996815323829651),\n",
       " ('sodacake', 0.9996802806854248),\n",
       " ('baking', 0.9996529221534729),\n",
       " ('chocolate', 0.9996036291122437),\n",
       " ('cake', 0.9995745420455933),\n",
       " ('cooking', 0.99956214427948)]"
      ]
     },
     "execution_count": 284,
     "metadata": {},
     "output_type": "execute_result"
    }
   ],
   "source": [
    "ft.wv.most_similar('sugar')"
   ]
  },
  {
   "cell_type": "code",
   "execution_count": null,
   "metadata": {},
   "outputs": [],
   "source": []
  },
  {
   "cell_type": "code",
   "execution_count": null,
   "metadata": {},
   "outputs": [],
   "source": []
  },
  {
   "cell_type": "code",
   "execution_count": null,
   "metadata": {},
   "outputs": [],
   "source": [
    "w2v = Word2Vec(\n",
    "    \n",
    ")"
   ]
  },
  {
   "cell_type": "code",
   "execution_count": null,
   "metadata": {},
   "outputs": [],
   "source": []
  },
  {
   "cell_type": "code",
   "execution_count": 262,
   "metadata": {},
   "outputs": [
    {
     "data": {
      "text/plain": [
       "TaggedDocument(words=['long-grain', 'white', 'rice', 'water', 'salt', 'olive', 'oil'], tags=[0])"
      ]
     },
     "execution_count": 262,
     "metadata": {},
     "output_type": "execute_result"
    }
   ],
   "source": [
    "documents = [TaggedDocument(doc, [i]) for i, doc in enumerate(flat_ingredients)]\n",
    "documents[0]"
   ]
  },
  {
   "cell_type": "code",
   "execution_count": 297,
   "metadata": {},
   "outputs": [],
   "source": [
    "d2v = Doc2Vec(\n",
    "    documents,\n",
    "    vector_size=32,\n",
    "    window=3,\n",
    "    min_count=1,\n",
    "    workers=4,\n",
    "    epochs=40\n",
    ")\n",
    "d2v.train(documents, total_examples=d2v.corpus_count, epochs=model.epochs)"
   ]
  },
  {
   "cell_type": "code",
   "execution_count": 285,
   "metadata": {},
   "outputs": [
    {
     "data": {
      "text/plain": [
       "[('sticks', 0.9994559288024902),\n",
       " ('stick', 0.9993504285812378),\n",
       " ('unsalted', 0.9993353486061096),\n",
       " ('european-style', 0.9990919828414917),\n",
       " ('softened', 0.999055027961731),\n",
       " ('egg', 0.9990079402923584),\n",
       " ('melted', 0.9990049004554749),\n",
       " ('cookies', 0.9988588690757751),\n",
       " ('eggs', 0.998816967010498),\n",
       " ('heavy', 0.9987289905548096)]"
      ]
     },
     "execution_count": 285,
     "metadata": {},
     "output_type": "execute_result"
    }
   ],
   "source": [
    "d2v.wv.most_similar(['butter'])"
   ]
  },
  {
   "cell_type": "code",
   "execution_count": 301,
   "metadata": {},
   "outputs": [
    {
     "data": {
      "text/plain": [
       "array([ 0.0149958 ,  0.01081163, -0.01309573, -0.02105867, -0.00119628,\n",
       "        0.00126277,  0.00197936, -0.00545138,  0.01015568, -0.00405203,\n",
       "       -0.00777297, -0.01053615, -0.0094697 ,  0.00676797, -0.01012329,\n",
       "        0.00471275,  0.00381594, -0.0008285 ,  0.01533036,  0.00118851,\n",
       "       -0.00912933,  0.00848218, -0.02350868,  0.00286595,  0.00446338,\n",
       "       -0.00521705,  0.00781466, -0.00470494,  0.00164694, -0.00220502,\n",
       "        0.01477924,  0.00778789], dtype=float32)"
      ]
     },
     "execution_count": 301,
     "metadata": {},
     "output_type": "execute_result"
    }
   ],
   "source": [
    "model.infer_vector(documents[0].words)"
   ]
  },
  {
   "cell_type": "code",
   "execution_count": null,
   "metadata": {},
   "outputs": [],
   "source": []
  },
  {
   "cell_type": "code",
   "execution_count": null,
   "metadata": {},
   "outputs": [],
   "source": []
  }
 ],
 "metadata": {
  "kernelspec": {
   "display_name": "HealthieBackend",
   "language": "python",
   "name": "healthiebackend"
  },
  "language_info": {
   "codemirror_mode": {
    "name": "ipython",
    "version": 3
   },
   "file_extension": ".py",
   "mimetype": "text/x-python",
   "name": "python",
   "nbconvert_exporter": "python",
   "pygments_lexer": "ipython3",
   "version": "3.7.5"
  }
 },
 "nbformat": 4,
 "nbformat_minor": 2
}
